{
 "cells": [
  {
   "cell_type": "code",
   "execution_count": 1,
   "metadata": {},
   "outputs": [],
   "source": [
    "from tools.database_tools import get_props, create_mysql_engine, get_companies\n",
    "from tools.file_tools import get_file_md5, unpack_firmware, remove_file\n",
    "from tools.find_tools import find_firmware, last_matching"
   ]
  },
  {
   "cell_type": "code",
   "execution_count": 2,
   "metadata": {},
   "outputs": [],
   "source": [
    "## init mysql engine\n",
    "setting = get_props('config/sql_settings.json')\n",
    "engine = create_mysql_engine(setting['user'], setting['password'], setting['host'], setting['port'], setting['database'])"
   ]
  },
  {
   "cell_type": "code",
   "execution_count": 3,
   "metadata": {},
   "outputs": [
    {
     "name": "stdout",
     "output_type": "stream",
     "text": [
      "unpacking firmware file: wr745nv1-cn-up.bin\n"
     ]
    },
    {
     "name": "stderr",
     "output_type": "stream",
     "text": [
      "  1%|          | 14/1397 [00:00<00:10, 128.57it/s]"
     ]
    },
    {
     "name": "stdout",
     "output_type": "stream",
     "text": [
      "The files are saved in Temp folder\n",
      "Searching\n"
     ]
    },
    {
     "name": "stderr",
     "output_type": "stream",
     "text": [
      "100%|██████████| 1397/1397 [00:16<00:00, 82.89it/s] \n"
     ]
    }
   ],
   "source": [
    "companies = get_companies(engine)\n",
    "path = \"/mnt/d/Work/firmware/TL-WR745N_V1_121227/wr745nv1-cn-up.bin\"\n",
    "folder = unpack_firmware(path)\n",
    "may_firmwares = find_firmware(companies, folder, engine)\n",
    "# TODO(wzy) get the bin file version info\n"
   ]
  },
  {
   "cell_type": "code",
   "execution_count": 4,
   "metadata": {},
   "outputs": [
    {
     "data": {
      "text/plain": "{'tp-link': ['wr841n',\n  'tl-wr741n',\n  'wr741n',\n  'tl-wr841n',\n  'wr745n',\n  'wr741n/742n']}"
     },
     "execution_count": 4,
     "metadata": {},
     "output_type": "execute_result"
    }
   ],
   "source": [
    "may_firmwares"
   ]
  },
  {
   "cell_type": "code",
   "execution_count": 4,
   "metadata": {},
   "outputs": [],
   "source": [
    "from tools import database_tools, file_tools, find_tools"
   ]
  },
  {
   "cell_type": "code",
   "execution_count": 5,
   "metadata": {},
   "outputs": [
    {
     "data": {
      "text/plain": "{'user': 'root',\n 'password': 'p@ssw0rd1!',\n 'host': '117.50.0.235',\n 'port': '3306',\n 'database': 'work'}"
     },
     "execution_count": 5,
     "metadata": {},
     "output_type": "execute_result"
    }
   ],
   "source": [
    "database_tools.get_props('config/sql_settings.json')"
   ]
  },
  {
   "cell_type": "code",
   "execution_count": null,
   "metadata": {},
   "outputs": [],
   "source": []
  }
 ],
 "metadata": {
  "kernelspec": {
   "display_name": "Python 3.8.5 64-bit",
   "name": "python385jvsc74a57bd0916dbcbb3f70747c44a77c7bcd40155683ae19c65e1c03b4aa3499c5328201f1"
  },
  "language_info": {
   "codemirror_mode": {
    "name": "ipython",
    "version": 3
   },
   "file_extension": ".py",
   "mimetype": "text/x-python",
   "name": "python",
   "nbconvert_exporter": "python",
   "pygments_lexer": "ipython3",
   "version": "3.8.5"
  },
  "metadata": {
   "interpreter": {
    "hash": "916dbcbb3f70747c44a77c7bcd40155683ae19c65e1c03b4aa3499c5328201f1"
   }
  },
  "orig_nbformat": 2
 },
 "nbformat": 4,
 "nbformat_minor": 2
}